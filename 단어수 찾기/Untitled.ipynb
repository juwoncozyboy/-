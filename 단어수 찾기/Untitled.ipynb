{
 "cells": [
  {
   "cell_type": "code",
   "execution_count": 17,
   "id": "b9767297-1961-42bf-ad59-3e925f16616a",
   "metadata": {},
   "outputs": [],
   "source": [
    "with open('community-posts.txt', 'r', encoding='utf-8') as file:\n",
    "        data = [line.strip() for line in file.readlines()]\n",
    "\n",
    "import re\n",
    "# 가격 패턴 제거 함수\n",
    "def remove_price_patterns(text):\n",
    "    pattern = r'\\d{3,}원|\\d{1,3}(,\\d{3})*원'\n",
    "    return re.sub(pattern, '', text)\n",
    "\n",
    "# 리스트 내의 각 문자열에서 ' x ' 패턴을 제거하고, 가격 패턴도 제거\n",
    "data = list(map(lambda x: remove_price_patterns(x.replace(' x ', '').replace(' + ', '')), data))\n"
   ]
  },
  {
   "cell_type": "code",
   "execution_count": 18,
   "id": "d4e11677-9f43-43d9-94ac-d854337357d3",
   "metadata": {},
   "outputs": [],
   "source": [
    "from difflib import SequenceMatcher\n",
    "from collections import defaultdict\n"
   ]
  },
  {
   "cell_type": "code",
   "execution_count": 19,
   "id": "2f547a2a-7815-4244-ad53-9810f5c8dd45",
   "metadata": {},
   "outputs": [],
   "source": [
    "def cluster_texts(texts, threshold=0.7):\n",
    "    clusters = defaultdict(list)\n",
    "    visited = set()\n",
    "\n",
    "    for i, text1 in enumerate(texts):\n",
    "        if i in visited:\n",
    "            continue\n",
    "        \n",
    "        cluster = [text1]\n",
    "        visited.add(i)\n",
    "        \n",
    "        for j, text2 in enumerate(texts):\n",
    "            if i != j and j not in visited:\n",
    "                similarity = SequenceMatcher(None, text1, text2).ratio()\n",
    "                if similarity > threshold:\n",
    "                    cluster.append(text2)\n",
    "                    visited.add(j)\n",
    "        \n",
    "        clusters[i] = cluster\n",
    "\n",
    "    return clusters\n"
   ]
  },
  {
   "cell_type": "code",
   "execution_count": 20,
   "id": "c575c56f-c78c-4069-bda0-8a75da80619f",
   "metadata": {},
   "outputs": [],
   "source": [
    "data = data[:10000]"
   ]
  },
  {
   "cell_type": "code",
   "execution_count": null,
   "id": "d273e9c3-881a-4c6a-b851-2b5b87f46c29",
   "metadata": {},
   "outputs": [],
   "source": [
    "clusters = cluster_texts(data)"
   ]
  },
  {
   "cell_type": "code",
   "execution_count": null,
   "id": "fa8223ad-f860-42eb-a5b4-5b14d23f8899",
   "metadata": {},
   "outputs": [],
   "source": []
  }
 ],
 "metadata": {
  "kernelspec": {
   "display_name": "Python 3 (ipykernel)",
   "language": "python",
   "name": "python3"
  },
  "language_info": {
   "codemirror_mode": {
    "name": "ipython",
    "version": 3
   },
   "file_extension": ".py",
   "mimetype": "text/x-python",
   "name": "python",
   "nbconvert_exporter": "python",
   "pygments_lexer": "ipython3",
   "version": "3.10.12"
  }
 },
 "nbformat": 4,
 "nbformat_minor": 5
}
