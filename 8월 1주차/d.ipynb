{
 "cells": [
  {
   "cell_type": "code",
   "execution_count": 10,
   "metadata": {},
   "outputs": [],
   "source": [
    "import pandas as pd\n",
    "import numpy as np\n",
    "import matplotlib.pyplot as plt\n",
    "import matplotlib.font_manager as fm\n",
    "\n",
    "from sklearn.feature_extraction.text import TfidfVectorizer\n",
    "from sklearn.cluster import KMeans\n",
    "from sklearn.metrics import silhouette_score\n",
    "import re\n"
   ]
  },
  {
   "cell_type": "code",
   "execution_count": 7,
   "metadata": {},
   "outputs": [],
   "source": [
    "# df = pd.read_csv('unique_replated_title-test.txt', delimiter='\\t', encoding='utf-8')\n",
    "df = pd.read_csv('unique_replated_title-test.txt', header=None, encoding='utf-8',names=['text'])\n",
    "\n",
    "# print(df)\n"
   ]
  },
  {
   "cell_type": "code",
   "execution_count": 8,
   "metadata": {},
   "outputs": [
    {
     "data": {
      "text/html": [
       "<div>\n",
       "<style scoped>\n",
       "    .dataframe tbody tr th:only-of-type {\n",
       "        vertical-align: middle;\n",
       "    }\n",
       "\n",
       "    .dataframe tbody tr th {\n",
       "        vertical-align: top;\n",
       "    }\n",
       "\n",
       "    .dataframe thead th {\n",
       "        text-align: right;\n",
       "    }\n",
       "</style>\n",
       "<table border=\"1\" class=\"dataframe\">\n",
       "  <thead>\n",
       "    <tr style=\"text-align: right;\">\n",
       "      <th></th>\n",
       "      <th>text</th>\n",
       "    </tr>\n",
       "  </thead>\n",
       "  <tbody>\n",
       "    <tr>\n",
       "      <th>0</th>\n",
       "      <td>++1c타입고속충전케이블</td>\n",
       "    </tr>\n",
       "    <tr>\n",
       "      <th>1</th>\n",
       "      <td>++1강화유리필름</td>\n",
       "    </tr>\n",
       "    <tr>\n",
       "      <th>2</th>\n",
       "      <td>++1강화유리필름풀커버강화유리전기종액정보호필름</td>\n",
       "    </tr>\n",
       "    <tr>\n",
       "      <th>3</th>\n",
       "      <td>++1등급준특수삼각살보석살1등급차돌</td>\n",
       "    </tr>\n",
       "    <tr>\n",
       "      <th>4</th>\n",
       "      <td>++1등급한우국거리불고기</td>\n",
       "    </tr>\n",
       "    <tr>\n",
       "      <th>...</th>\n",
       "      <td>...</td>\n",
       "    </tr>\n",
       "    <tr>\n",
       "      <th>105153</th>\n",
       "      <td>힘펠휴젠뜨25욕실온풍난방제습환풍기</td>\n",
       "    </tr>\n",
       "    <tr>\n",
       "      <th>105154</th>\n",
       "      <td>힘펠휴젠뜨환풍기</td>\n",
       "    </tr>\n",
       "    <tr>\n",
       "      <th>105155</th>\n",
       "      <td>힙색가방</td>\n",
       "    </tr>\n",
       "    <tr>\n",
       "      <th>105156</th>\n",
       "      <td>힙쌕가방벨트백허리보조가방</td>\n",
       "    </tr>\n",
       "    <tr>\n",
       "      <th>105157</th>\n",
       "      <td>힙업팬티팬티라인없는요가필라테스레깅스이너팬티</td>\n",
       "    </tr>\n",
       "  </tbody>\n",
       "</table>\n",
       "<p>105158 rows × 1 columns</p>\n",
       "</div>"
      ],
      "text/plain": [
       "                             text\n",
       "0                   ++1c타입고속충전케이블\n",
       "1                       ++1강화유리필름\n",
       "2       ++1강화유리필름풀커버강화유리전기종액정보호필름\n",
       "3             ++1등급준특수삼각살보석살1등급차돌\n",
       "4                   ++1등급한우국거리불고기\n",
       "...                           ...\n",
       "105153         힘펠휴젠뜨25욕실온풍난방제습환풍기\n",
       "105154                   힘펠휴젠뜨환풍기\n",
       "105155                       힙색가방\n",
       "105156              힙쌕가방벨트백허리보조가방\n",
       "105157    힙업팬티팬티라인없는요가필라테스레깅스이너팬티\n",
       "\n",
       "[105158 rows x 1 columns]"
      ]
     },
     "execution_count": 8,
     "metadata": {},
     "output_type": "execute_result"
    }
   ],
   "source": [
    "df"
   ]
  },
  {
   "cell_type": "code",
   "execution_count": 9,
   "metadata": {},
   "outputs": [
    {
     "data": {
      "text/plain": [
       "Index(['text'], dtype='object')"
      ]
     },
     "execution_count": 9,
     "metadata": {},
     "output_type": "execute_result"
    }
   ],
   "source": [
    "df.columns"
   ]
  },
  {
   "cell_type": "code",
   "execution_count": 11,
   "metadata": {},
   "outputs": [],
   "source": [
    "def preprocess_text(text):\n",
    "    if isinstance(text, str):\n",
    "        return re.sub(r'[^\\s\\d\\w]', '', text)\n",
    "    return ''\n",
    "\n",
    "df['text'] = df['text'].apply(preprocess_text)"
   ]
  },
  {
   "cell_type": "code",
   "execution_count": 12,
   "metadata": {},
   "outputs": [
    {
     "data": {
      "text/html": [
       "<div>\n",
       "<style scoped>\n",
       "    .dataframe tbody tr th:only-of-type {\n",
       "        vertical-align: middle;\n",
       "    }\n",
       "\n",
       "    .dataframe tbody tr th {\n",
       "        vertical-align: top;\n",
       "    }\n",
       "\n",
       "    .dataframe thead th {\n",
       "        text-align: right;\n",
       "    }\n",
       "</style>\n",
       "<table border=\"1\" class=\"dataframe\">\n",
       "  <thead>\n",
       "    <tr style=\"text-align: right;\">\n",
       "      <th></th>\n",
       "      <th>text</th>\n",
       "    </tr>\n",
       "  </thead>\n",
       "  <tbody>\n",
       "    <tr>\n",
       "      <th>0</th>\n",
       "      <td>1c타입고속충전케이블</td>\n",
       "    </tr>\n",
       "    <tr>\n",
       "      <th>1</th>\n",
       "      <td>1강화유리필름</td>\n",
       "    </tr>\n",
       "    <tr>\n",
       "      <th>2</th>\n",
       "      <td>1강화유리필름풀커버강화유리전기종액정보호필름</td>\n",
       "    </tr>\n",
       "    <tr>\n",
       "      <th>3</th>\n",
       "      <td>1등급준특수삼각살보석살1등급차돌</td>\n",
       "    </tr>\n",
       "    <tr>\n",
       "      <th>4</th>\n",
       "      <td>1등급한우국거리불고기</td>\n",
       "    </tr>\n",
       "    <tr>\n",
       "      <th>...</th>\n",
       "      <td>...</td>\n",
       "    </tr>\n",
       "    <tr>\n",
       "      <th>105153</th>\n",
       "      <td>힘펠휴젠뜨25욕실온풍난방제습환풍기</td>\n",
       "    </tr>\n",
       "    <tr>\n",
       "      <th>105154</th>\n",
       "      <td>힘펠휴젠뜨환풍기</td>\n",
       "    </tr>\n",
       "    <tr>\n",
       "      <th>105155</th>\n",
       "      <td>힙색가방</td>\n",
       "    </tr>\n",
       "    <tr>\n",
       "      <th>105156</th>\n",
       "      <td>힙쌕가방벨트백허리보조가방</td>\n",
       "    </tr>\n",
       "    <tr>\n",
       "      <th>105157</th>\n",
       "      <td>힙업팬티팬티라인없는요가필라테스레깅스이너팬티</td>\n",
       "    </tr>\n",
       "  </tbody>\n",
       "</table>\n",
       "<p>105158 rows × 1 columns</p>\n",
       "</div>"
      ],
      "text/plain": [
       "                           text\n",
       "0                   1c타입고속충전케이블\n",
       "1                       1강화유리필름\n",
       "2       1강화유리필름풀커버강화유리전기종액정보호필름\n",
       "3             1등급준특수삼각살보석살1등급차돌\n",
       "4                   1등급한우국거리불고기\n",
       "...                         ...\n",
       "105153       힘펠휴젠뜨25욕실온풍난방제습환풍기\n",
       "105154                 힘펠휴젠뜨환풍기\n",
       "105155                     힙색가방\n",
       "105156            힙쌕가방벨트백허리보조가방\n",
       "105157  힙업팬티팬티라인없는요가필라테스레깅스이너팬티\n",
       "\n",
       "[105158 rows x 1 columns]"
      ]
     },
     "execution_count": 12,
     "metadata": {},
     "output_type": "execute_result"
    }
   ],
   "source": [
    "df"
   ]
  },
  {
   "cell_type": "code",
   "execution_count": 13,
   "metadata": {},
   "outputs": [],
   "source": [
    "texts = df['text'].tolist()"
   ]
  },
  {
   "cell_type": "code",
   "execution_count": 18,
   "metadata": {},
   "outputs": [],
   "source": [
    "df = pd.DataFrame({'text': texts})"
   ]
  },
  {
   "cell_type": "code",
   "execution_count": 19,
   "metadata": {},
   "outputs": [
    {
     "data": {
      "text/html": [
       "<div>\n",
       "<style scoped>\n",
       "    .dataframe tbody tr th:only-of-type {\n",
       "        vertical-align: middle;\n",
       "    }\n",
       "\n",
       "    .dataframe tbody tr th {\n",
       "        vertical-align: top;\n",
       "    }\n",
       "\n",
       "    .dataframe thead th {\n",
       "        text-align: right;\n",
       "    }\n",
       "</style>\n",
       "<table border=\"1\" class=\"dataframe\">\n",
       "  <thead>\n",
       "    <tr style=\"text-align: right;\">\n",
       "      <th></th>\n",
       "      <th>text</th>\n",
       "    </tr>\n",
       "  </thead>\n",
       "  <tbody>\n",
       "    <tr>\n",
       "      <th>0</th>\n",
       "      <td>1c타입고속충전케이블</td>\n",
       "    </tr>\n",
       "    <tr>\n",
       "      <th>1</th>\n",
       "      <td>1강화유리필름</td>\n",
       "    </tr>\n",
       "    <tr>\n",
       "      <th>2</th>\n",
       "      <td>1강화유리필름풀커버강화유리전기종액정보호필름</td>\n",
       "    </tr>\n",
       "    <tr>\n",
       "      <th>3</th>\n",
       "      <td>1등급준특수삼각살보석살1등급차돌</td>\n",
       "    </tr>\n",
       "    <tr>\n",
       "      <th>4</th>\n",
       "      <td>1등급한우국거리불고기</td>\n",
       "    </tr>\n",
       "    <tr>\n",
       "      <th>...</th>\n",
       "      <td>...</td>\n",
       "    </tr>\n",
       "    <tr>\n",
       "      <th>105153</th>\n",
       "      <td>힘펠휴젠뜨25욕실온풍난방제습환풍기</td>\n",
       "    </tr>\n",
       "    <tr>\n",
       "      <th>105154</th>\n",
       "      <td>힘펠휴젠뜨환풍기</td>\n",
       "    </tr>\n",
       "    <tr>\n",
       "      <th>105155</th>\n",
       "      <td>힙색가방</td>\n",
       "    </tr>\n",
       "    <tr>\n",
       "      <th>105156</th>\n",
       "      <td>힙쌕가방벨트백허리보조가방</td>\n",
       "    </tr>\n",
       "    <tr>\n",
       "      <th>105157</th>\n",
       "      <td>힙업팬티팬티라인없는요가필라테스레깅스이너팬티</td>\n",
       "    </tr>\n",
       "  </tbody>\n",
       "</table>\n",
       "<p>105158 rows × 1 columns</p>\n",
       "</div>"
      ],
      "text/plain": [
       "                           text\n",
       "0                   1c타입고속충전케이블\n",
       "1                       1강화유리필름\n",
       "2       1강화유리필름풀커버강화유리전기종액정보호필름\n",
       "3             1등급준특수삼각살보석살1등급차돌\n",
       "4                   1등급한우국거리불고기\n",
       "...                         ...\n",
       "105153       힘펠휴젠뜨25욕실온풍난방제습환풍기\n",
       "105154                 힘펠휴젠뜨환풍기\n",
       "105155                     힙색가방\n",
       "105156            힙쌕가방벨트백허리보조가방\n",
       "105157  힙업팬티팬티라인없는요가필라테스레깅스이너팬티\n",
       "\n",
       "[105158 rows x 1 columns]"
      ]
     },
     "execution_count": 19,
     "metadata": {},
     "output_type": "execute_result"
    }
   ],
   "source": [
    "df"
   ]
  },
  {
   "cell_type": "code",
   "execution_count": 21,
   "metadata": {},
   "outputs": [
    {
     "data": {
      "text/plain": [
       "text    0\n",
       "dtype: int64"
      ]
     },
     "execution_count": 21,
     "metadata": {},
     "output_type": "execute_result"
    }
   ],
   "source": [
    "df.isnull().sum()"
   ]
  },
  {
   "cell_type": "code",
   "execution_count": 15,
   "metadata": {},
   "outputs": [],
   "source": [
    "# TF-IDF 벡터화\n",
    "vectorizer = TfidfVectorizer()\n",
    "X = vectorizer.fit_transform(texts)"
   ]
  },
  {
   "cell_type": "code",
   "execution_count": 20,
   "metadata": {},
   "outputs": [
    {
     "data": {
      "text/plain": [
       "<105158x104819 sparse matrix of type '<class 'numpy.float64'>'\n",
       "\twith 105139 stored elements in Compressed Sparse Row format>"
      ]
     },
     "execution_count": 20,
     "metadata": {},
     "output_type": "execute_result"
    }
   ],
   "source": [
    "X"
   ]
  },
  {
   "cell_type": "code",
   "execution_count": 16,
   "metadata": {},
   "outputs": [
    {
     "name": "stdout",
     "output_type": "stream",
     "text": [
      "클러스터 수: 1\n"
     ]
    }
   ],
   "source": [
    "from sklearn.cluster import DBSCAN\n",
    "\n",
    "# 최적의 eps와 min_samples 설정\n",
    "optimal_eps = 0.5  # K-거리 그래프에서 결정된 값\n",
    "# min_samples = 5  # 일반적으로 데이터의 차원 수 + 1 이상\n",
    "min_samples = 5\n",
    "\n",
    "# DBSCAN 클러스터링\n",
    "dbscan = DBSCAN(eps=optimal_eps, min_samples=min_samples)\n",
    "clusters = dbscan.fit_predict(X)\n",
    "\n",
    "# 클러스터링 결과 평가\n",
    "num_clusters = len(set(clusters)) - (1 if -1 in clusters else 0)\n",
    "print(f'클러스터 수: {num_clusters}')\n",
    "\n",
    "\n"
   ]
  },
  {
   "cell_type": "code",
   "execution_count": 17,
   "metadata": {},
   "outputs": [
    {
     "name": "stdout",
     "output_type": "stream",
     "text": [
      "\n",
      "Cluster 0:\n",
      "2\n",
      "o\n",
      "q\n",
      "t\n",
      "굴\n",
      "권\n",
      "귤\n",
      "딜\n",
      "뭐\n",
      "뻥\n",
      "솔\n",
      "쌀\n",
      "썬\n",
      "옷\n",
      "외\n",
      "치\n",
      "티\n",
      "펑\n",
      "향\n"
     ]
    }
   ],
   "source": [
    "clustered_texts = pd.DataFrame({'text': texts, 'cluster': clusters})\n",
    "for cluster_num in range(num_clusters):\n",
    "    print(f\"\\nCluster {cluster_num}:\")\n",
    "    cluster_texts = clustered_texts[clustered_texts['cluster'] == cluster_num]['text'].values\n",
    "    for text in cluster_texts:  \n",
    "        print(text)\n",
    "    \n",
    "    \n"
   ]
  }
 ],
 "metadata": {
  "kernelspec": {
   "display_name": "base",
   "language": "python",
   "name": "python3"
  },
  "language_info": {
   "codemirror_mode": {
    "name": "ipython",
    "version": 3
   },
   "file_extension": ".py",
   "mimetype": "text/x-python",
   "name": "python",
   "nbconvert_exporter": "python",
   "pygments_lexer": "ipython3",
   "version": "3.11.5"
  }
 },
 "nbformat": 4,
 "nbformat_minor": 2
}
