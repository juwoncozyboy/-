{
 "cells": [
  {
   "cell_type": "code",
   "execution_count": 4,
   "metadata": {},
   "outputs": [],
   "source": [
    "import mysql.connector\n",
    "import os\n",
    "import csv"
   ]
  },
  {
   "cell_type": "code",
   "execution_count": 5,
   "metadata": {},
   "outputs": [
    {
     "name": "stdout",
     "output_type": "stream",
     "text": [
      "Table admin_user has been written to output/admin_user.csv\n",
      "Table brand has been written to output/brand.csv\n",
      "Table brand_danawa_category has been written to output/brand_danawa_category.csv\n",
      "Table brand_item has been written to output/brand_item.csv\n",
      "Table brand_product has been written to output/brand_product.csv\n",
      "Table brand_product_item has been written to output/brand_product_item.csv\n",
      "Table category has been written to output/category.csv\n",
      "Table danawa_category has been written to output/danawa_category.csv\n",
      "Table hot_deal_exclude_keyword has been written to output/hot_deal_exclude_keyword.csv\n",
      "Table hot_deal_keyword has been written to output/hot_deal_keyword.csv\n",
      "Table hot_deal_keyword_synonym has been written to output/hot_deal_keyword_synonym.csv\n",
      "Table instagram_post has been written to output/instagram_post.csv\n",
      "Table item has been written to output/item.csv\n",
      "Table mall has been written to output/mall.csv\n",
      "Table mall_product has been written to output/mall_product.csv\n",
      "Table mall_product_item has been written to output/mall_product_item.csv\n",
      "Table migrations has been written to output/migrations.csv\n",
      "Table notification has been written to output/notification.csv\n",
      "Table notification_keyword has been written to output/notification_keyword.csv\n",
      "Table product has been written to output/product.csv\n",
      "Table product_comment has been written to output/product_comment.csv\n",
      "Table product_content has been written to output/product_content.csv\n",
      "Table product_guide has been written to output/product_guide.csv\n",
      "Table product_info has been written to output/product_info.csv\n",
      "Table product_item has been written to output/product_item.csv\n",
      "Table product_item_detail has been written to output/product_item_detail.csv\n",
      "Table product_mapping has been written to output/product_mapping.csv\n",
      "Table product_price has been written to output/product_price.csv\n",
      "Table product_score has been written to output/product_score.csv\n",
      "Table provider has been written to output/provider.csv\n",
      "Table push_history has been written to output/push_history.csv\n",
      "Table search_keyword has been written to output/search_keyword.csv\n",
      "Table user has been written to output/user.csv\n",
      "Table user_history has been written to output/user_history.csv\n",
      "Table user_o_auth has been written to output/user_o_auth.csv\n",
      "Table user_push_setting has been written to output/user_push_setting.csv\n",
      "Table user_token has been written to output/user_token.csv\n",
      "Table wishlist has been written to output/wishlist.csv\n"
     ]
    }
   ],
   "source": [
    "# MySQL 데이터베이스에 연결\n",
    "conn = mysql.connector.connect(\n",
    "    host='jirum-alarm-prod.ch8q2kmm6z9y.ap-northeast-2.rds.amazonaws.com',\n",
    "    user='jirum',\n",
    "    password='!jirum0466',\n",
    "    database='crawling'\n",
    ")\n",
    "\n",
    "# 커서 객체 생성\n",
    "cursor = conn.cursor()\n",
    "\n",
    "# 스키마 내 모든 테이블 가져오기\n",
    "cursor.execute(\"SHOW TABLES\")\n",
    "tables = cursor.fetchall()\n",
    "\n",
    "# 디렉토리 생성\n",
    "output_dir = 'output'\n",
    "os.makedirs(output_dir, exist_ok=True)\n",
    "\n",
    "# 각 테이블 데이터를 CSV 파일로 저장\n",
    "for (table_name,) in tables:\n",
    "    cursor.execute(f\"SELECT * FROM {table_name}\")\n",
    "    rows = cursor.fetchall()\n",
    "    \n",
    "    # 열 이름 가져오기\n",
    "    column_names = [i[0] for i in cursor.description]\n",
    "    \n",
    "    # CSV 파일에 데이터 쓰기\n",
    "    with open(f'{output_dir}/{table_name}.csv', mode='w', newline='') as file:\n",
    "        writer = csv.writer(file)\n",
    "        \n",
    "        # 헤더 쓰기\n",
    "        writer.writerow(column_names)\n",
    "        \n",
    "        # 데이터 쓰기\n",
    "        writer.writerows(rows)\n",
    "\n",
    "    print(f'Table {table_name} has been written to {output_dir}/{table_name}.csv')\n",
    "\n",
    "# 커서 및 연결 닫기\n",
    "cursor.close()\n",
    "conn.close()"
   ]
  }
 ],
 "metadata": {
  "kernelspec": {
   "display_name": "base",
   "language": "python",
   "name": "python3"
  },
  "language_info": {
   "codemirror_mode": {
    "name": "ipython",
    "version": 3
   },
   "file_extension": ".py",
   "mimetype": "text/x-python",
   "name": "python",
   "nbconvert_exporter": "python",
   "pygments_lexer": "ipython3",
   "version": "3.11.5"
  }
 },
 "nbformat": 4,
 "nbformat_minor": 2
}
