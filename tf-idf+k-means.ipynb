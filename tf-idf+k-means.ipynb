{
 "cells": [
  {
   "cell_type": "code",
   "execution_count": null,
   "id": "34b87e53-63bc-4fba-be5a-4bf092fb1ba9",
   "metadata": {},
   "outputs": [
    {
     "name": "stderr",
     "output_type": "stream",
     "text": [
      "Duplicate key in file PosixPath('/usr/local/lib/python3.10/dist-packages/matplotlib/mpl-data/matplotlibrc'), line 413 ('axes.unicode_minus: True  # use Unicode for the minus symbol rather than hyphen.  See')\n"
     ]
    }
   ],
   "source": [
    "import re\n",
    "\n",
    "import matplotlib.pyplot as plt\n",
    "import numpy as np\n",
    "from sklearn.cluster import KMeans\n",
    "from sklearn.feature_extraction.text import TfidfVectorizer\n",
    "\n",
    "with open('community-posts.txt', 'r', encoding='utf-8') as file:\n",
    "    product_names = [line.strip() for line in file.readlines()]\n",
    "\n",
    "# 전처리 함수\n",
    "def preprocess(text):\n",
    "    text = re.sub(r'\\W+', ' ', text)  # 특수 문자 제거\n",
    "    text = text.lower()  # 소문자 변환\n",
    "    return text\n",
    "\n",
    "# 전처리된 상품명 리스트 생성\n",
    "processed_product_names = [preprocess(name) for name in product_names]\n",
    "\n",
    "# TF-IDF 벡터라이저 생성\n",
    "vectorizer = TfidfVectorizer()\n",
    "\n",
    "# 상품명을 벡터화\n",
    "tfidf_matrix = vectorizer.fit_transform(processed_product_names)\n",
    "\n",
    "# K-Means 클러스터링 수행\n",
    "num_clusters = 15000  # 원하는 클러스터의 수\n",
    "kmeans = KMeans(n_clusters=num_clusters, random_state=0)\n",
    "kmeans.fit(tfidf_matrix)\n",
    "\n",
    "# 클러스터 할당 결과\n",
    "clusters = kmeans.labels_\n",
    "\n",
    "# 클러스터별로 상품명 출력\n",
    "clustered_products = [[] for _ in range(num_clusters)]\n",
    "for i, cluster in enumerate(clusters):\n",
    "    clustered_products[cluster].append(product_names[i])\n",
    "\n",
    "# 결과 출력\n",
    "for cluster_id, products in enumerate(clustered_products):\n",
    "    print(f\"\\n클러스터 {cluster_id + 1}:\")\n",
    "    for product in products:\n",
    "        print(f\" - {product}\")\n",
    "\n",
    "# 엘보우 방법을 사용하여 최적의 클러스터 수 찾기\n",
    "# sse = []\n",
    "# k_range = range(10, 100)  # 클러스터 개수를 1부터 10까지 시도\n",
    "\n",
    "# for k in k_range:\n",
    "#     kmeans = KMeans(n_clusters=k, random_state=0)\n",
    "#     kmeans.fit(tfidf_matrix)\n",
    "#     sse.append(kmeans.inertia_)  # SSE 저장\n",
    "\n",
    "# # SSE 그래프 그리기\n",
    "# plt.figure(figsize=(8, 6))\n",
    "# plt.plot(k_range, sse, marker='o')\n",
    "# plt.xlabel('cluster count')\n",
    "# plt.ylabel('SSE')\n",
    "# plt.title('optimized cluster count')\n",
    "# plt.show()"
   ]
  },
  {
   "cell_type": "code",
   "execution_count": null,
   "id": "315bc286-50d2-4bdb-b7f5-005da3b04bf3",
   "metadata": {},
   "outputs": [],
   "source": []
  },
  {
   "cell_type": "code",
   "execution_count": null,
   "id": "87277e79-96e6-44e5-89c6-8fa193843101",
   "metadata": {},
   "outputs": [],
   "source": []
  }
 ],
 "metadata": {
  "kernelspec": {
   "display_name": "Python 3 (ipykernel)",
   "language": "python",
   "name": "python3"
  },
  "language_info": {
   "codemirror_mode": {
    "name": "ipython",
    "version": 3
   },
   "file_extension": ".py",
   "mimetype": "text/x-python",
   "name": "python",
   "nbconvert_exporter": "python",
   "pygments_lexer": "ipython3",
   "version": "3.10.12"
  }
 },
 "nbformat": 4,
 "nbformat_minor": 5
}
